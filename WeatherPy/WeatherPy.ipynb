{
 "cells": [
  {
   "cell_type": "markdown",
   "metadata": {},
   "source": [
    "Discussion: Observed Trends"
   ]
  },
  {
   "cell_type": "markdown",
   "metadata": {},
   "source": [
    "    There appears to be a strong relationship between max temperature and latitude, with temperature decreasing as latitude increases in the Northern Hemisphere, and temperature increasing as latitude decreases in the Southern Hemisphere. These phenomenon suggest that temperature increases closer to the equator, and decreases as one moves farther away from the equator.\n",
    "   \n",
    "    Alternately, there does not appear to be a strong relationship between humidity and latitude, as high humidity can be see both closer to and farther away from the equator. This could instead suggest that humidity is not affected by latitude, but rather some other factor, such as type of landscape.\n",
    "    \n",
    "    Similarly, wind speed does not seem to be significantly affected by latitude in either hemisphere, as the regression line for the northern hemisphere is nearly flat, meaning that there is nearly no relationship between latitude and wind speed. For the southern hemisphere, wind speed appears to be slightly more affected by latitude, with a slight negative relationship between latitude and wind speed. However, this is not statistically significant."
   ]
  },
  {
   "cell_type": "code",
   "execution_count": 2,
   "metadata": {},
   "outputs": [],
   "source": [
    "# Dependencies and Setup\n",
    "import matplotlib.pyplot as plt\n",
    "import pandas as pd\n",
    "import numpy as np\n",
    "import requests\n",
    "import time\n",
    "from scipy.stats import linregress\n",
    "\n",
    "# Import API key\n",
    "from api_keys import weather_api_key\n",
    "\n",
    "# Incorporated citipy to determine city based on latitude and longitude\n",
    "from citipy import citipy\n",
    "\n",
    "# Output File (CSV)\n",
    "output_data_file = \"output_data/cities.csv\"\n",
    "\n",
    "# Range of latitudes and longitudes\n",
    "lat_range = (-90, 90)\n",
    "lng_range = (-180, 180)"
   ]
  },
  {
   "cell_type": "code",
   "execution_count": 3,
   "metadata": {},
   "outputs": [
    {
     "data": {
      "text/plain": [
       "577"
      ]
     },
     "execution_count": 3,
     "metadata": {},
     "output_type": "execute_result"
    }
   ],
   "source": [
    "# List for holding lat_lngs and cities\n",
    "lat_lngs = []\n",
    "cities = []\n",
    "\n",
    "# Create a set of random lat and lng combinations\n",
    "lats = np.random.uniform(lat_range[0], lat_range[1], size=1500)\n",
    "lngs = np.random.uniform(lng_range[0], lng_range[1], size=1500)\n",
    "lat_lngs = zip(lats, lngs)\n",
    "\n",
    "# Identify nearest city for each lat, lng combination\n",
    "for lat_lng in lat_lngs:\n",
    "    city = citipy.nearest_city(lat_lng[0], lat_lng[1]).city_name\n",
    "    \n",
    "    # If the city is unique, then add it to a our cities list\n",
    "    if city not in cities:\n",
    "        cities.append(city)\n",
    "\n",
    "# Print the city count to confirm sufficient count\n",
    "len(cities)"
   ]
  },
  {
   "cell_type": "markdown",
   "metadata": {},
   "source": [
    "Perform API Calls"
   ]
  },
  {
   "cell_type": "code",
   "execution_count": 4,
   "metadata": {},
   "outputs": [
    {
     "name": "stdout",
     "output_type": "stream",
     "text": [
      "Processing Record 0 of Set 1 | bambous virieux\n",
      "Processing Record 1 of Set 1 | port alfred\n",
      "Processing Record 2 of Set 1 | busselton\n",
      "Processing Record 3 of Set 1 | dikson\n",
      "Processing Record 4 of Set 1 | finschhafen\n",
      "Processing Record 5 of Set 1 | honiara\n",
      "Processing Record 6 of Set 1 | kutum\n",
      "Processing Record 7 of Set 1 | bengkulu\n",
      "Processing Record 8 of Set 1 | tuktoyaktuk\n",
      "Processing Record 9 of Set 1 | clifton springs\n",
      "Processing Record 10 of Set 1 | vaini\n",
      "Processing Record 11 of Set 1 | itarema\n",
      "Processing Record 12 of Set 1 | carnarvon\n",
      "Processing Record 13 of Set 1 | mingyue\n",
      "Processing Record 14 of Set 1 | igarka\n",
      "Processing Record 15 of Set 1 | saint-prosper\n",
      "Processing Record 16 of Set 1 | chokurdakh\n",
      "Processing Record 17 of Set 1 | yuzhno-yeniseyskiy\n",
      "Processing Record 18 of Set 1 | punta arenas\n",
      "Processing Record 19 of Set 1 | belushya guba\n",
      "Processing Record 20 of Set 1 | baruun-urt\n",
      "Processing Record 21 of Set 1 | san patricio\n",
      "Processing Record 22 of Set 1 | laguna\n",
      "Processing Record 23 of Set 1 | alice springs\n",
      "Processing Record 24 of Set 1 | mahebourg\n",
      "Processing Record 25 of Set 1 | ushuaia\n",
      "Processing Record 26 of Set 1 | axim\n",
      "Processing Record 27 of Set 1 | kodiak\n",
      "Processing Record 28 of Set 1 | barda\n",
      "Processing Record 29 of Set 1 | grajau\n",
      "Processing Record 30 of Set 1 | urengoy\n",
      "Processing Record 31 of Set 1 | waingapu\n",
      "Processing Record 32 of Set 1 | lompoc\n",
      "Processing Record 33 of Set 1 | tura\n",
      "Processing Record 34 of Set 1 | bredasdorp\n",
      "Processing Record 35 of Set 1 | saint-philippe\n",
      "Processing Record 36 of Set 1 | thinadhoo\n",
      "Processing Record 37 of Set 1 | kaitangata\n",
      "Processing Record 38 of Set 1 | invermere\n",
      "Processing Record 39 of Set 1 | rikitea\n",
      "Processing Record 40 of Set 1 | kars\n",
      "Processing Record 41 of Set 1 | pevek\n",
      "Processing Record 42 of Set 1 | rocha\n",
      "Processing Record 43 of Set 1 | albany\n",
      "Processing Record 44 of Set 1 | beloha\n",
      "Processing Record 45 of Set 1 | caravelas\n",
      "Processing Record 46 of Set 1 | doha\n",
      "Processing Record 47 of Set 1 | taolanaro\n",
      "Processing Record 48 of Set 1 | provideniya\n",
      "Processing Record 49 of Set 1 | sitka\n",
      "Processing Record 50 of Set 1 | hasaki\n",
      "Processing Record 51 of Set 1 | puerto ayora\n",
      "Processing Record 52 of Set 1 | mataura\n",
      "Processing Record 53 of Set 1 | kapaa\n",
      "Processing Record 54 of Set 1 | airai\n",
      "Processing Record 55 of Set 1 | hilo\n",
      "Processing Record 56 of Set 1 | port elizabeth\n",
      "Processing Record 57 of Set 1 | buraydah\n",
      "Processing Record 58 of Set 1 | zhoucheng\n",
      "Processing Record 59 of Set 1 | nojorid\n",
      "Processing Record 60 of Set 1 | guarapuava\n",
      "Processing Record 61 of Set 1 | houma\n",
      "Processing Record 62 of Set 1 | castro\n",
      "Processing Record 63 of Set 1 | maba\n",
      "Processing Record 64 of Set 1 | seymchan\n",
      "Processing Record 65 of Set 1 | bethel\n",
      "Processing Record 66 of Set 1 | tsihombe\n",
      "Processing Record 67 of Set 1 | flinders\n",
      "Processing Record 68 of Set 1 | ancud\n",
      "Processing Record 69 of Set 1 | pucara\n",
      "Processing Record 70 of Set 1 | longyearbyen\n",
      "Processing Record 71 of Set 1 | la palma\n",
      "Processing Record 72 of Set 1 | ulladulla\n",
      "Processing Record 73 of Set 1 | attawapiskat\n",
      "Processing Record 74 of Set 1 | hobart\n",
      "Processing Record 75 of Set 1 | cotonou\n",
      "Processing Record 76 of Set 1 | pisco\n",
      "Processing Record 77 of Set 1 | katsuura\n",
      "Processing Record 78 of Set 1 | kefamenanu\n",
      "Processing Record 79 of Set 1 | bluff\n",
      "Processing Record 80 of Set 1 | barentsburg\n",
      "Processing Record 81 of Set 1 | severo-kurilsk\n",
      "Processing Record 82 of Set 1 | butaritari\n",
      "Processing Record 83 of Set 1 | cidreira\n",
      "Processing Record 84 of Set 1 | thompson\n",
      "Processing Record 85 of Set 1 | copiapo\n",
      "Processing Record 86 of Set 1 | tautira\n",
      "Processing Record 87 of Set 1 | zhongxing\n",
      "Processing Record 88 of Set 1 | turtas\n",
      "Processing Record 89 of Set 1 | ranghulu\n",
      "Processing Record 90 of Set 1 | norman wells\n",
      "Processing Record 91 of Set 1 | smirnykh\n",
      "Processing Record 92 of Set 1 | torbay\n",
      "Processing Record 93 of Set 1 | nome\n",
      "Processing Record 94 of Set 1 | lebu\n",
      "Processing Record 95 of Set 1 | vilyuysk\n",
      "Processing Record 96 of Set 1 | boddam\n",
      "Processing Record 97 of Set 1 | ponta delgada\n",
      "Processing Record 98 of Set 1 | haines junction\n",
      "Processing Record 99 of Set 1 | arman\n",
      "Processing Record 100 of Set 1 | barra\n",
      "Processing Record 101 of Set 1 | hermanus\n",
      "Processing Record 102 of Set 1 | grand river south east\n",
      "Processing Record 103 of Set 1 | taoudenni\n",
      "Processing Record 104 of Set 1 | havoysund\n",
      "Processing Record 105 of Set 1 | sao joao da barra\n",
      "Processing Record 106 of Set 1 | isangel\n",
      "Processing Record 107 of Set 1 | tasiilaq\n",
      "Processing Record 108 of Set 1 | pedernales\n",
      "Processing Record 109 of Set 1 | asyut\n",
      "Processing Record 110 of Set 1 | yellowknife\n",
      "Processing Record 111 of Set 1 | port blair\n",
      "Processing Record 112 of Set 1 | kurilsk\n",
      "Processing Record 113 of Set 1 | baykit\n",
      "Processing Record 114 of Set 1 | meulaboh\n",
      "Processing Record 115 of Set 1 | faanui\n",
      "Processing Record 116 of Set 1 | cachoeiras de macacu\n",
      "Processing Record 117 of Set 1 | tawkar\n",
      "Processing Record 118 of Set 1 | victoria\n",
      "Processing Record 119 of Set 1 | chara\n",
      "Processing Record 120 of Set 1 | louisbourg\n",
      "Processing Record 121 of Set 1 | athabasca\n",
      "Processing Record 122 of Set 1 | ulaanbaatar\n",
      "Processing Record 123 of Set 1 | fare\n",
      "Processing Record 124 of Set 1 | riyadh\n",
      "Processing Record 125 of Set 1 | jamestown\n",
      "Processing Record 126 of Set 1 | mount gambier\n",
      "Processing Record 127 of Set 1 | birnin kebbi\n",
      "Processing Record 128 of Set 1 | barrow\n",
      "Processing Record 129 of Set 1 | blagaj\n",
      "Processing Record 130 of Set 1 | aegviidu\n",
      "Processing Record 131 of Set 1 | portland\n",
      "Processing Record 132 of Set 1 | east london\n",
      "Processing Record 133 of Set 1 | severnyy\n",
      "Processing Record 134 of Set 1 | vao\n",
      "Processing Record 135 of Set 1 | porto novo\n",
      "Processing Record 136 of Set 1 | champerico\n",
      "Processing Record 137 of Set 1 | avarua\n",
      "Processing Record 138 of Set 1 | atuona\n",
      "Processing Record 139 of Set 1 | labutta\n",
      "Processing Record 140 of Set 1 | iqaluit\n",
      "Processing Record 141 of Set 1 | souillac\n",
      "Processing Record 142 of Set 1 | lavrentiya\n",
      "Processing Record 143 of Set 1 | rehoboth\n",
      "Processing Record 144 of Set 1 | saint-augustin\n",
      "Processing Record 145 of Set 1 | roald\n",
      "Processing Record 146 of Set 1 | baghdad\n",
      "Processing Record 147 of Set 1 | bonnyville\n",
      "Processing Record 148 of Set 1 | tiksi\n",
      "Processing Record 149 of Set 1 | la ronge\n",
      "Processing Record 150 of Set 1 | saldanha\n",
      "Processing Record 151 of Set 1 | teguise\n",
      "Processing Record 152 of Set 1 | jutai\n",
      "Processing Record 153 of Set 1 | uspenka\n",
      "Processing Record 154 of Set 1 | yerbogachen\n",
      "Processing Record 155 of Set 1 | hithadhoo\n",
      "Processing Record 156 of Set 1 | huarmey\n",
      "Processing Record 157 of Set 1 | ribeira grande\n",
      "Processing Record 158 of Set 1 | sentyabrskiy\n",
      "Processing Record 159 of Set 1 | yulara\n",
      "Processing Record 160 of Set 1 | burnie\n",
      "Processing Record 161 of Set 1 | nikolskoye\n",
      "Processing Record 162 of Set 1 | torrevieja\n",
      "Processing Record 163 of Set 1 | ponta do sol\n",
      "Processing Record 164 of Set 1 | ilulissat\n",
      "Processing Record 165 of Set 1 | shakhtinsk\n",
      "Processing Record 166 of Set 1 | lehigh acres\n",
      "Processing Record 167 of Set 1 | cap malheureux\n",
      "Processing Record 168 of Set 1 | saryshagan\n",
      "Processing Record 169 of Set 1 | bartica\n",
      "Processing Record 170 of Set 1 | illoqqortoormiut\n",
      "Processing Record 171 of Set 1 | anadyr\n",
      "Processing Record 172 of Set 1 | hoi an\n",
      "Processing Record 173 of Set 1 | half moon bay\n",
      "Processing Record 174 of Set 1 | mayumba\n",
      "Processing Record 175 of Set 1 | maltahohe\n",
      "Processing Record 176 of Set 1 | talnakh\n",
      "Processing Record 177 of Set 1 | herat\n",
      "Processing Record 178 of Set 1 | hryshkivtsi\n",
      "Processing Record 179 of Set 1 | tiarei\n",
      "Processing Record 180 of Set 1 | arraial do cabo\n",
      "Processing Record 181 of Set 1 | balao\n",
      "Processing Record 182 of Set 1 | grayvoron\n",
      "Processing Record 183 of Set 1 | geraldton\n",
      "Processing Record 184 of Set 1 | sambava\n",
      "Processing Record 185 of Set 1 | sao filipe\n",
      "Processing Record 186 of Set 1 | port lincoln\n",
      "Processing Record 187 of Set 1 | solano\n",
      "Processing Record 188 of Set 1 | aborlan\n",
      "Processing Record 189 of Set 1 | njeru\n",
      "Processing Record 190 of Set 1 | kavieng\n",
      "Processing Record 191 of Set 1 | linxi\n",
      "Processing Record 192 of Set 1 | luderitz\n",
      "Processing Record 193 of Set 1 | petropavlovsk-kamchatskiy\n",
      "Processing Record 194 of Set 1 | bereda\n",
      "Processing Record 195 of Set 1 | estepa\n",
      "Processing Record 196 of Set 1 | behbahan\n",
      "Processing Record 197 of Set 1 | muhos\n"
     ]
    },
    {
     "name": "stdout",
     "output_type": "stream",
     "text": [
      "Processing Record 198 of Set 1 | kloulklubed\n",
      "Processing Record 199 of Set 1 | new norfolk\n",
      "Processing Record 200 of Set 1 | marcona\n",
      "Processing Record 201 of Set 1 | cherskiy\n",
      "Processing Record 202 of Set 1 | rio gallegos\n",
      "Processing Record 203 of Set 1 | qaanaaq\n",
      "Processing Record 204 of Set 1 | bolungarvik\n",
      "Processing Record 205 of Set 1 | neiafu\n",
      "Processing Record 206 of Set 1 | makakilo city\n",
      "Processing Record 207 of Set 1 | krasnaya zarya\n",
      "Processing Record 208 of Set 1 | totoro\n",
      "Processing Record 209 of Set 1 | dombovar\n",
      "Processing Record 210 of Set 1 | mar del plata\n",
      "Processing Record 211 of Set 1 | clyde river\n",
      "Processing Record 212 of Set 1 | pangnirtung\n",
      "Processing Record 213 of Set 1 | ahipara\n",
      "Processing Record 214 of Set 1 | qasigiannguit\n",
      "Processing Record 215 of Set 1 | pompeu\n",
      "Processing Record 216 of Set 1 | nevel\n",
      "Processing Record 217 of Set 1 | saskylakh\n",
      "Processing Record 218 of Set 1 | sibu\n",
      "Processing Record 219 of Set 1 | lolua\n",
      "Processing Record 220 of Set 1 | hit\n",
      "Processing Record 221 of Set 1 | cabo san lucas\n",
      "Processing Record 222 of Set 1 | kirakira\n",
      "Processing Record 223 of Set 1 | malanje\n",
      "Processing Record 224 of Set 1 | almaznyy\n",
      "Processing Record 225 of Set 1 | santiago\n",
      "Processing Record 226 of Set 1 | ndele\n",
      "Processing Record 227 of Set 1 | puerto escondido\n",
      "Processing Record 228 of Set 1 | cosala\n",
      "Processing Record 229 of Set 1 | belmonte\n",
      "Processing Record 230 of Set 1 | ust-kamchatsk\n",
      "Processing Record 231 of Set 1 | calvinia\n",
      "Processing Record 232 of Set 1 | prince albert\n",
      "Processing Record 233 of Set 1 | cape town\n",
      "Processing Record 234 of Set 1 | koch bihar\n",
      "Processing Record 235 of Set 1 | savannah bight\n",
      "Processing Record 236 of Set 1 | san fernando\n",
      "Processing Record 237 of Set 1 | ust-uda\n",
      "Processing Record 238 of Set 1 | nisia floresta\n",
      "Processing Record 239 of Set 1 | esperance\n",
      "Processing Record 240 of Set 1 | wasilla\n",
      "Processing Record 241 of Set 1 | batemans bay\n",
      "Processing Record 242 of Set 1 | hualmay\n",
      "Processing Record 243 of Set 1 | codrington\n",
      "Processing Record 244 of Set 1 | inhuma\n",
      "Processing Record 245 of Set 1 | entre rios\n",
      "Processing Record 246 of Set 1 | hofn\n",
      "Processing Record 247 of Set 1 | wawa\n",
      "Processing Record 248 of Set 1 | mao\n",
      "Processing Record 249 of Set 1 | port hardy\n",
      "Processing Record 250 of Set 1 | kieta\n",
      "Processing Record 251 of Set 1 | olafsvik\n",
      "Processing Record 252 of Set 1 | platanos\n",
      "Processing Record 253 of Set 1 | kautokeino\n",
      "Processing Record 254 of Set 1 | khatanga\n",
      "Processing Record 255 of Set 1 | te anau\n",
      "Processing Record 256 of Set 1 | akyab\n",
      "Processing Record 257 of Set 1 | leh\n",
      "Processing Record 258 of Set 1 | chuy\n",
      "Processing Record 259 of Set 1 | seoni\n",
      "Processing Record 260 of Set 1 | saint george\n",
      "Processing Record 261 of Set 1 | utiroa\n",
      "Processing Record 262 of Set 1 | heihe\n",
      "Processing Record 263 of Set 1 | rawson\n",
      "Processing Record 264 of Set 1 | nizhneyansk\n",
      "Processing Record 265 of Set 1 | port augusta\n",
      "Processing Record 266 of Set 1 | bullas\n",
      "Processing Record 267 of Set 1 | dongsheng\n",
      "Processing Record 268 of Set 1 | thunder bay\n",
      "Processing Record 269 of Set 1 | maceio\n",
      "Processing Record 270 of Set 1 | marawi\n",
      "Processing Record 271 of Set 1 | wanlaweyn\n",
      "Processing Record 272 of Set 1 | big rapids\n",
      "Processing Record 273 of Set 1 | masvingo\n",
      "Processing Record 274 of Set 1 | avera\n",
      "Processing Record 275 of Set 1 | gorno-chuyskiy\n",
      "Processing Record 276 of Set 1 | nanortalik\n",
      "Processing Record 277 of Set 1 | mys shmidta\n",
      "Processing Record 278 of Set 1 | oktyabrskiy\n",
      "Processing Record 279 of Set 1 | greenfield\n",
      "Processing Record 280 of Set 1 | todos santos\n",
      "Processing Record 281 of Set 1 | lagoa\n",
      "Processing Record 282 of Set 1 | weirton\n",
      "Processing Record 283 of Set 1 | muros\n",
      "Processing Record 284 of Set 1 | serov\n",
      "Processing Record 285 of Set 1 | marzuq\n",
      "Processing Record 286 of Set 1 | luanda\n",
      "Processing Record 287 of Set 1 | ouesso\n",
      "Processing Record 288 of Set 1 | piracanjuba\n",
      "Processing Record 289 of Set 1 | grindavik\n",
      "Processing Record 290 of Set 1 | juneau\n",
      "Processing Record 291 of Set 1 | almendralejo\n",
      "Processing Record 292 of Set 1 | bathsheba\n",
      "Processing Record 293 of Set 1 | trincomalee\n",
      "Processing Record 294 of Set 1 | hennebont\n",
      "Processing Record 295 of Set 1 | bargal\n",
      "Processing Record 296 of Set 1 | mapiripan\n",
      "Processing Record 297 of Set 1 | sandpoint\n",
      "Processing Record 298 of Set 1 | miyako\n",
      "Processing Record 299 of Set 1 | san jose\n",
      "Processing Record 300 of Set 1 | miri\n",
      "Processing Record 301 of Set 1 | praia da vitoria\n",
      "Processing Record 302 of Set 1 | sao jose da coroa grande\n",
      "Processing Record 303 of Set 1 | berlevag\n",
      "Processing Record 304 of Set 1 | sharanga\n",
      "Processing Record 305 of Set 1 | antalaha\n",
      "Processing Record 306 of Set 1 | nelson bay\n",
      "Processing Record 307 of Set 1 | bonthe\n",
      "Processing Record 308 of Set 1 | kruisfontein\n",
      "Processing Record 309 of Set 1 | kangaatsiaq\n",
      "Processing Record 310 of Set 1 | karauzyak\n",
      "Processing Record 311 of Set 1 | deputatskiy\n",
      "Processing Record 312 of Set 1 | vostok\n",
      "Processing Record 313 of Set 1 | rovaniemi\n",
      "Processing Record 314 of Set 1 | jining\n",
      "Processing Record 315 of Set 1 | koslan\n",
      "Processing Record 316 of Set 1 | adrar\n",
      "Processing Record 317 of Set 1 | dubbo\n",
      "Processing Record 318 of Set 1 | mago\n",
      "Processing Record 319 of Set 1 | socorro\n",
      "Processing Record 320 of Set 1 | plouzane\n",
      "Processing Record 321 of Set 1 | tigre\n",
      "Processing Record 322 of Set 1 | tommot\n",
      "Processing Record 323 of Set 1 | zemio\n",
      "Processing Record 324 of Set 1 | erenhot\n",
      "Processing Record 325 of Set 1 | obra\n",
      "Processing Record 326 of Set 1 | san cristobal\n",
      "Processing Record 327 of Set 1 | conde\n",
      "Processing Record 328 of Set 1 | tabuk\n",
      "Processing Record 329 of Set 1 | tumannyy\n",
      "Processing Record 330 of Set 1 | indiaroba\n",
      "Processing Record 331 of Set 1 | beringovskiy\n",
      "Processing Record 332 of Set 1 | hailar\n",
      "Processing Record 333 of Set 1 | teguldet\n",
      "Processing Record 334 of Set 1 | kamina\n",
      "Processing Record 335 of Set 1 | lahat\n",
      "Processing Record 336 of Set 1 | beihai\n",
      "Processing Record 337 of Set 1 | padang\n",
      "Processing Record 338 of Set 1 | guiglo\n",
      "Processing Record 339 of Set 1 | broken hill\n",
      "Processing Record 340 of Set 1 | ciudad bolivar\n",
      "Processing Record 341 of Set 1 | morant bay\n",
      "Processing Record 342 of Set 1 | ostersund\n",
      "Processing Record 343 of Set 1 | gazanjyk\n",
      "Processing Record 344 of Set 1 | tsiroanomandidy\n",
      "Processing Record 345 of Set 1 | igarape-miri\n",
      "Processing Record 346 of Set 1 | santa rosa\n",
      "Processing Record 347 of Set 1 | altay\n",
      "Processing Record 348 of Set 1 | nyurba\n",
      "Processing Record 349 of Set 1 | warqla\n",
      "Processing Record 350 of Set 1 | sobolevo\n",
      "Processing Record 351 of Set 1 | uddevalla\n",
      "Processing Record 352 of Set 1 | cockburn harbour\n",
      "Processing Record 353 of Set 1 | newport\n",
      "Processing Record 354 of Set 1 | salym\n",
      "Processing Record 355 of Set 1 | aguada de pasajeros\n",
      "Processing Record 356 of Set 1 | lorengau\n",
      "Processing Record 357 of Set 1 | lac du bonnet\n",
      "Processing Record 358 of Set 1 | les cayes\n",
      "Processing Record 359 of Set 1 | chegdomyn\n",
      "Processing Record 360 of Set 1 | russkaya polyana\n",
      "Processing Record 361 of Set 1 | fairbanks\n",
      "Processing Record 362 of Set 1 | aklavik\n",
      "Processing Record 363 of Set 1 | plettenberg bay\n",
      "Processing Record 364 of Set 1 | magherani\n",
      "Processing Record 365 of Set 1 | palabuhanratu\n",
      "Processing Record 366 of Set 1 | amderma\n",
      "Processing Record 367 of Set 1 | tuatapere\n",
      "Processing Record 368 of Set 1 | santa marta\n",
      "Processing Record 369 of Set 1 | freeport\n",
      "Processing Record 370 of Set 1 | banda aceh\n",
      "Processing Record 371 of Set 1 | taizhou\n",
      "Processing Record 372 of Set 1 | necocli\n",
      "Processing Record 373 of Set 1 | roebourne\n",
      "Processing Record 374 of Set 1 | tadine\n",
      "Processing Record 375 of Set 1 | karlskrona\n",
      "Processing Record 376 of Set 1 | linxia\n",
      "Processing Record 377 of Set 1 | lakes entrance\n",
      "Processing Record 378 of Set 1 | ryomgard\n",
      "Processing Record 379 of Set 1 | sterling\n",
      "Processing Record 380 of Set 1 | ismailia\n",
      "Processing Record 381 of Set 1 | puerto carreno\n",
      "Processing Record 382 of Set 1 | port hedland\n",
      "Processing Record 383 of Set 1 | alto araguaia\n",
      "Processing Record 384 of Set 1 | leningradskiy\n",
      "Processing Record 385 of Set 1 | upernavik\n",
      "Processing Record 386 of Set 1 | moctezuma\n",
      "Processing Record 387 of Set 1 | hamilton\n",
      "Processing Record 388 of Set 1 | georgetown\n",
      "Processing Record 389 of Set 1 | isilkul\n"
     ]
    },
    {
     "name": "stdout",
     "output_type": "stream",
     "text": [
      "Processing Record 390 of Set 1 | ambilobe\n",
      "Processing Record 391 of Set 1 | ilhabela\n",
      "Processing Record 392 of Set 1 | xiamen\n",
      "Processing Record 393 of Set 1 | shiraz\n",
      "Processing Record 394 of Set 1 | portoferraio\n",
      "Processing Record 395 of Set 1 | hami\n",
      "Processing Record 396 of Set 1 | mahibadhoo\n",
      "Processing Record 397 of Set 1 | kaduy\n",
      "Processing Record 398 of Set 1 | kargasok\n",
      "Processing Record 399 of Set 1 | alofi\n",
      "Processing Record 400 of Set 1 | kosh-agach\n",
      "Processing Record 401 of Set 1 | shibarghan\n",
      "Processing Record 402 of Set 1 | kalmar\n",
      "Processing Record 403 of Set 1 | cayenne\n",
      "Processing Record 404 of Set 1 | samusu\n",
      "Processing Record 405 of Set 1 | san ignacio\n",
      "Processing Record 406 of Set 1 | olean\n",
      "Processing Record 407 of Set 1 | ascension\n",
      "Processing Record 408 of Set 1 | kortkeros\n",
      "Processing Record 409 of Set 1 | palmer\n",
      "Processing Record 410 of Set 1 | amboise\n",
      "Processing Record 411 of Set 1 | pokhara\n",
      "Processing Record 412 of Set 1 | homer\n",
      "Processing Record 413 of Set 1 | sistranda\n",
      "Processing Record 414 of Set 1 | takoradi\n",
      "Processing Record 415 of Set 1 | golden rock\n",
      "Processing Record 416 of Set 1 | kawalu\n",
      "Processing Record 417 of Set 1 | hun\n",
      "Processing Record 418 of Set 1 | san quintin\n",
      "Processing Record 419 of Set 1 | imeni poliny osipenko\n",
      "Processing Record 420 of Set 1 | vardo\n",
      "Processing Record 421 of Set 1 | narsaq\n",
      "Processing Record 422 of Set 1 | temaraia\n",
      "Processing Record 423 of Set 1 | berlin\n",
      "Processing Record 424 of Set 1 | gizo\n",
      "Processing Record 425 of Set 1 | mehamn\n",
      "Processing Record 426 of Set 1 | white center\n",
      "Processing Record 427 of Set 1 | khani\n",
      "Processing Record 428 of Set 1 | gondanglegi\n",
      "Processing Record 429 of Set 1 | gat\n",
      "Processing Record 430 of Set 1 | severomuysk\n",
      "Processing Record 431 of Set 1 | carutapera\n",
      "Processing Record 432 of Set 1 | ugoofaaru\n",
      "Processing Record 433 of Set 1 | jieshi\n",
      "Processing Record 434 of Set 1 | ketchikan\n",
      "Processing Record 435 of Set 1 | tasbuget\n",
      "Processing Record 436 of Set 1 | jiblah\n",
      "Processing Record 437 of Set 1 | cairns\n",
      "Processing Record 438 of Set 1 | coihaique\n",
      "Processing Record 439 of Set 1 | tshane\n",
      "Processing Record 440 of Set 1 | nakasongola\n",
      "Processing Record 441 of Set 1 | churapcha\n",
      "Processing Record 442 of Set 1 | burkburnett\n",
      "Processing Record 443 of Set 1 | mergui\n",
      "Processing Record 444 of Set 1 | nchelenge\n",
      "Processing Record 445 of Set 1 | vidim\n",
      "Processing Record 446 of Set 1 | abha\n",
      "Processing Record 447 of Set 1 | fort nelson\n",
      "Processing Record 448 of Set 1 | nanakuli\n",
      "Processing Record 449 of Set 1 | longlac\n",
      "Processing Record 450 of Set 1 | campos altos\n",
      "Processing Record 451 of Set 1 | olinda\n",
      "Processing Record 452 of Set 1 | den helder\n",
      "Processing Record 453 of Set 1 | hargeysa\n",
      "Processing Record 454 of Set 1 | brownfield\n",
      "Processing Record 455 of Set 1 | iskateley\n",
      "Processing Record 456 of Set 1 | sechura\n",
      "Processing Record 457 of Set 1 | san ramon\n",
      "Processing Record 458 of Set 1 | taywarah\n",
      "Processing Record 459 of Set 1 | calama\n",
      "Processing Record 460 of Set 1 | constitucion\n",
      "Processing Record 461 of Set 1 | sur\n",
      "Processing Record 462 of Set 1 | fortuna\n",
      "Processing Record 463 of Set 1 | nuuk\n",
      "Processing Record 464 of Set 1 | bardiyah\n",
      "Processing Record 465 of Set 1 | los llanos de aridane\n",
      "Processing Record 466 of Set 1 | meaux\n",
      "Processing Record 467 of Set 1 | tyup\n",
      "Processing Record 468 of Set 1 | barcelos\n",
      "Processing Record 469 of Set 1 | hirara\n",
      "Processing Record 470 of Set 1 | maniitsoq\n",
      "Processing Record 471 of Set 1 | eenhana\n",
      "Processing Record 472 of Set 1 | alekseyevsk\n",
      "Processing Record 473 of Set 1 | huicheng\n",
      "Processing Record 474 of Set 1 | urdzhar\n",
      "Processing Record 475 of Set 1 | pacific grove\n",
      "Processing Record 476 of Set 1 | alexandria\n",
      "Processing Record 477 of Set 1 | humaita\n",
      "Processing Record 478 of Set 1 | abbeville\n",
      "Processing Record 479 of Set 1 | durango\n",
      "Processing Record 480 of Set 1 | kenai\n",
      "Processing Record 481 of Set 1 | manuk mangkaw\n",
      "Processing Record 482 of Set 1 | tessalit\n",
      "Processing Record 483 of Set 1 | turukhansk\n",
      "Processing Record 484 of Set 1 | kudahuvadhoo\n",
      "Processing Record 485 of Set 1 | otuzco\n",
      "Processing Record 486 of Set 1 | teocuitatlan de corona\n",
      "Processing Record 487 of Set 1 | nantucket\n",
      "Processing Record 488 of Set 1 | visnes\n",
      "Processing Record 489 of Set 1 | enumclaw\n",
      "Processing Record 490 of Set 1 | oksfjord\n",
      "Processing Record 491 of Set 1 | hammerfest\n",
      "Processing Record 492 of Set 1 | salamanca\n",
      "Processing Record 493 of Set 1 | ridgecrest\n",
      "Processing Record 494 of Set 1 | yeppoon\n",
      "Processing Record 495 of Set 1 | nevers\n",
      "Processing Record 496 of Set 1 | new richmond\n",
      "Processing Record 497 of Set 1 | port keats\n",
      "Processing Record 498 of Set 1 | ginir\n",
      "Processing Record 499 of Set 1 | kamenskoye\n",
      "Processing Record 500 of Set 1 | guerrero negro\n",
      "Processing Record 501 of Set 1 | garmsar\n",
      "Processing Record 502 of Set 1 | dudinka\n",
      "Processing Record 503 of Set 1 | seoul\n",
      "Processing Record 504 of Set 1 | abu dhabi\n",
      "Processing Record 505 of Set 1 | rio grande\n",
      "Processing Record 506 of Set 1 | lang suan\n",
      "Processing Record 507 of Set 1 | sogne\n",
      "Processing Record 508 of Set 1 | mullaitivu\n",
      "Processing Record 509 of Set 1 | vung tau\n",
      "Processing Record 510 of Set 1 | ardakan\n",
      "Processing Record 511 of Set 1 | nurota\n",
      "Processing Record 512 of Set 1 | ipora\n",
      "Processing Record 513 of Set 1 | cape coast\n",
      "Processing Record 514 of Set 1 | ust-nera\n",
      "Processing Record 515 of Set 1 | skagen\n",
      "Processing Record 516 of Set 1 | sawtell\n",
      "Processing Record 517 of Set 1 | okha\n",
      "Processing Record 518 of Set 1 | vila franca do campo\n",
      "Processing Record 519 of Set 1 | bilibino\n",
      "Processing Record 520 of Set 1 | sweetwater\n",
      "Processing Record 521 of Set 1 | quatre cocos\n",
      "Processing Record 522 of Set 1 | kimberley\n",
      "Processing Record 523 of Set 1 | la mesa\n",
      "Processing Record 524 of Set 1 | dalby\n",
      "Processing Record 525 of Set 1 | luwuk\n",
      "Processing Record 526 of Set 1 | havre-saint-pierre\n",
      "Processing Record 527 of Set 1 | yagodnoye\n",
      "Processing Record 528 of Set 1 | porto nacional\n",
      "Processing Record 529 of Set 1 | karakol\n",
      "Processing Record 530 of Set 1 | prince rupert\n",
      "Processing Record 531 of Set 1 | satitoa\n",
      "Processing Record 532 of Set 1 | talaya\n",
      "Processing Record 533 of Set 1 | gogrial\n",
      "Processing Record 534 of Set 1 | upata\n",
      "Processing Record 535 of Set 1 | paamiut\n",
      "Processing Record 536 of Set 1 | hambantota\n",
      "Processing Record 537 of Set 1 | sumbawa\n",
      "Processing Record 538 of Set 1 | north bend\n",
      "Processing Record 539 of Set 1 | lata\n",
      "Processing Record 540 of Set 1 | phek\n",
      "Processing Record 541 of Set 1 | alamosa\n",
      "Processing Record 542 of Set 1 | songea\n",
      "Processing Record 543 of Set 1 | najran\n",
      "Processing Record 544 of Set 1 | kavaratti\n",
      "Processing Record 545 of Set 1 | richards bay\n",
      "Processing Record 546 of Set 1 | totness\n",
      "Processing Record 547 of Set 1 | redmond\n",
      "Processing Record 548 of Set 1 | ak-dovurak\n",
      "Processing Record 549 of Set 1 | tabiauea\n",
      "Processing Record 550 of Set 1 | boa vista\n",
      "Processing Record 551 of Set 1 | green river\n",
      "Processing Record 552 of Set 1 | dzilam gonzalez\n",
      "Processing Record 553 of Set 1 | kuah\n",
      "Processing Record 554 of Set 1 | udachnyy\n",
      "Processing Record 555 of Set 1 | paredon\n",
      "Processing Record 556 of Set 1 | evensk\n",
      "Processing Record 557 of Set 1 | kupang\n",
      "Processing Record 558 of Set 1 | tsaratanana\n",
      "Processing Record 559 of Set 1 | meyungs\n",
      "Processing Record 560 of Set 1 | manggar\n",
      "Processing Record 561 of Set 1 | turriff\n",
      "Processing Record 562 of Set 1 | cranbrook\n",
      "Processing Record 563 of Set 1 | ranong\n",
      "Processing Record 564 of Set 1 | baijiantan\n",
      "Processing Record 565 of Set 1 | magistralnyy\n",
      "Processing Record 566 of Set 1 | banjar\n",
      "Processing Record 567 of Set 1 | camacari\n",
      "Processing Record 568 of Set 1 | scarborough\n",
      "Processing Record 569 of Set 1 | waddan\n",
      "Processing Record 570 of Set 1 | rangpo\n",
      "Processing Record 571 of Set 1 | dakoro\n",
      "Processing Record 572 of Set 1 | aksu\n",
      "Processing Record 573 of Set 1 | srednekolymsk\n",
      "Processing Record 574 of Set 1 | altamira\n",
      "Processing Record 575 of Set 1 | chulman\n",
      "Processing Record 576 of Set 1 | maues\n"
     ]
    }
   ],
   "source": [
    "#Make a request for each of the cities\n",
    "url = \"http://api.openweathermap.org/data/2.5/weather?\"\n",
    "query_url = f\"{url}appid={weather_api_key}&q=\"\n",
    "\n",
    "import json\n",
    "\n",
    "responses = []\n",
    "\n",
    "for x in range(len(cities)):\n",
    "    print(f\"Processing Record {x} of Set 1 | {cities[x]}\")\n",
    "    \n",
    "    response = requests.get(query_url + cities[x])\n",
    "    responses.append(response.json())"
   ]
  },
  {
   "cell_type": "code",
   "execution_count": 5,
   "metadata": {},
   "outputs": [],
   "source": [
    "#Extract city weather data from responses list\n",
    "max_temps = []\n",
    "cities2 = []\n",
    "lat = []\n",
    "lon = []\n",
    "humidity = []\n",
    "cloudiness = []\n",
    "wind_speed = []\n",
    "country = []\n",
    "date = []\n",
    "\n",
    "for city in responses:\n",
    "    try:\n",
    "        cities2.append(city['name'])\n",
    "        max_temps.append(city['main']['temp_max'])\n",
    "        lat.append(city['coord']['lat'])\n",
    "        lon.append(city['coord']['lon'])\n",
    "        humidity.append(city['main']['humidity'])\n",
    "        cloudiness.append(city['clouds']['all'])\n",
    "        wind_speed.append(city['wind']['speed'])\n",
    "        country.append(city['sys']['country'])\n",
    "        date.append(city['dt'])\n",
    "    except: \n",
    "        continue\n"
   ]
  },
  {
   "cell_type": "code",
   "execution_count": 6,
   "metadata": {},
   "outputs": [],
   "source": [
    "#Change max_temps to farenheit\n",
    "temps_f = []\n",
    "for i in max_temps:\n",
    "    f = ((i - 273.15) * (9/5)) + (32)\n",
    "    temps_f.append(f)"
   ]
  },
  {
   "cell_type": "code",
   "execution_count": 7,
   "metadata": {},
   "outputs": [],
   "source": [
    "#Create new dataframe with extracted data\n",
    "cities_df = pd.DataFrame({\n",
    "    \"City\": cities2,\n",
    "    \"Lat\": lat,\n",
    "    \"Lng\": lon,\n",
    "    \"Max Temp\": temps_f,\n",
    "    \"Humidity\": humidity,\n",
    "    \"Cloudiness\": cloudiness,\n",
    "    \"Wind Speed\": wind_speed,\n",
    "    \"Country\": country,\n",
    "    \"Date\": date\n",
    "})\n"
   ]
  },
  {
   "cell_type": "code",
   "execution_count": 8,
   "metadata": {},
   "outputs": [
    {
     "data": {
      "text/html": [
       "<div>\n",
       "<style scoped>\n",
       "    .dataframe tbody tr th:only-of-type {\n",
       "        vertical-align: middle;\n",
       "    }\n",
       "\n",
       "    .dataframe tbody tr th {\n",
       "        vertical-align: top;\n",
       "    }\n",
       "\n",
       "    .dataframe thead th {\n",
       "        text-align: right;\n",
       "    }\n",
       "</style>\n",
       "<table border=\"1\" class=\"dataframe\">\n",
       "  <thead>\n",
       "    <tr style=\"text-align: right;\">\n",
       "      <th></th>\n",
       "      <th>City</th>\n",
       "      <th>Lat</th>\n",
       "      <th>Lng</th>\n",
       "      <th>Max Temp</th>\n",
       "      <th>Humidity</th>\n",
       "      <th>Cloudiness</th>\n",
       "      <th>Wind Speed</th>\n",
       "      <th>Country</th>\n",
       "      <th>Date</th>\n",
       "    </tr>\n",
       "  </thead>\n",
       "  <tbody>\n",
       "    <tr>\n",
       "      <th>0</th>\n",
       "      <td>Bambous Virieux</td>\n",
       "      <td>-20.3428</td>\n",
       "      <td>57.7575</td>\n",
       "      <td>78.800</td>\n",
       "      <td>94</td>\n",
       "      <td>40</td>\n",
       "      <td>3.09</td>\n",
       "      <td>MU</td>\n",
       "      <td>1610309376</td>\n",
       "    </tr>\n",
       "    <tr>\n",
       "      <th>1</th>\n",
       "      <td>Port Alfred</td>\n",
       "      <td>-33.5906</td>\n",
       "      <td>26.8910</td>\n",
       "      <td>68.000</td>\n",
       "      <td>81</td>\n",
       "      <td>97</td>\n",
       "      <td>0.45</td>\n",
       "      <td>ZA</td>\n",
       "      <td>1610309376</td>\n",
       "    </tr>\n",
       "    <tr>\n",
       "      <th>2</th>\n",
       "      <td>Busselton</td>\n",
       "      <td>-33.6500</td>\n",
       "      <td>115.3333</td>\n",
       "      <td>55.994</td>\n",
       "      <td>91</td>\n",
       "      <td>4</td>\n",
       "      <td>5.16</td>\n",
       "      <td>AU</td>\n",
       "      <td>1610309377</td>\n",
       "    </tr>\n",
       "    <tr>\n",
       "      <th>3</th>\n",
       "      <td>Dikson</td>\n",
       "      <td>73.5069</td>\n",
       "      <td>80.5464</td>\n",
       "      <td>20.822</td>\n",
       "      <td>98</td>\n",
       "      <td>100</td>\n",
       "      <td>9.56</td>\n",
       "      <td>RU</td>\n",
       "      <td>1610309377</td>\n",
       "    </tr>\n",
       "    <tr>\n",
       "      <th>4</th>\n",
       "      <td>Finschhafen</td>\n",
       "      <td>-6.6024</td>\n",
       "      <td>147.8681</td>\n",
       "      <td>80.546</td>\n",
       "      <td>79</td>\n",
       "      <td>100</td>\n",
       "      <td>4.52</td>\n",
       "      <td>PG</td>\n",
       "      <td>1610309377</td>\n",
       "    </tr>\n",
       "    <tr>\n",
       "      <th>...</th>\n",
       "      <td>...</td>\n",
       "      <td>...</td>\n",
       "      <td>...</td>\n",
       "      <td>...</td>\n",
       "      <td>...</td>\n",
       "      <td>...</td>\n",
       "      <td>...</td>\n",
       "      <td>...</td>\n",
       "      <td>...</td>\n",
       "    </tr>\n",
       "    <tr>\n",
       "      <th>529</th>\n",
       "      <td>Aksu</td>\n",
       "      <td>41.1231</td>\n",
       "      <td>80.2644</td>\n",
       "      <td>11.102</td>\n",
       "      <td>80</td>\n",
       "      <td>0</td>\n",
       "      <td>1.99</td>\n",
       "      <td>CN</td>\n",
       "      <td>1610309445</td>\n",
       "    </tr>\n",
       "    <tr>\n",
       "      <th>530</th>\n",
       "      <td>Srednekolymsk</td>\n",
       "      <td>67.4500</td>\n",
       "      <td>153.6833</td>\n",
       "      <td>-29.110</td>\n",
       "      <td>84</td>\n",
       "      <td>100</td>\n",
       "      <td>2.12</td>\n",
       "      <td>RU</td>\n",
       "      <td>1610309445</td>\n",
       "    </tr>\n",
       "    <tr>\n",
       "      <th>531</th>\n",
       "      <td>Altamira</td>\n",
       "      <td>-3.2033</td>\n",
       "      <td>-52.2064</td>\n",
       "      <td>78.800</td>\n",
       "      <td>89</td>\n",
       "      <td>40</td>\n",
       "      <td>1.31</td>\n",
       "      <td>BR</td>\n",
       "      <td>1610309284</td>\n",
       "    </tr>\n",
       "    <tr>\n",
       "      <th>532</th>\n",
       "      <td>Chul'man</td>\n",
       "      <td>56.8479</td>\n",
       "      <td>124.9104</td>\n",
       "      <td>-18.958</td>\n",
       "      <td>86</td>\n",
       "      <td>100</td>\n",
       "      <td>1.71</td>\n",
       "      <td>RU</td>\n",
       "      <td>1610309446</td>\n",
       "    </tr>\n",
       "    <tr>\n",
       "      <th>533</th>\n",
       "      <td>Maués</td>\n",
       "      <td>-3.3836</td>\n",
       "      <td>-57.7186</td>\n",
       "      <td>85.226</td>\n",
       "      <td>72</td>\n",
       "      <td>57</td>\n",
       "      <td>0.71</td>\n",
       "      <td>BR</td>\n",
       "      <td>1610309446</td>\n",
       "    </tr>\n",
       "  </tbody>\n",
       "</table>\n",
       "<p>534 rows × 9 columns</p>\n",
       "</div>"
      ],
      "text/plain": [
       "                City      Lat       Lng  Max Temp  Humidity  Cloudiness  \\\n",
       "0    Bambous Virieux -20.3428   57.7575    78.800        94          40   \n",
       "1        Port Alfred -33.5906   26.8910    68.000        81          97   \n",
       "2          Busselton -33.6500  115.3333    55.994        91           4   \n",
       "3             Dikson  73.5069   80.5464    20.822        98         100   \n",
       "4        Finschhafen  -6.6024  147.8681    80.546        79         100   \n",
       "..               ...      ...       ...       ...       ...         ...   \n",
       "529             Aksu  41.1231   80.2644    11.102        80           0   \n",
       "530    Srednekolymsk  67.4500  153.6833   -29.110        84         100   \n",
       "531         Altamira  -3.2033  -52.2064    78.800        89          40   \n",
       "532         Chul'man  56.8479  124.9104   -18.958        86         100   \n",
       "533            Maués  -3.3836  -57.7186    85.226        72          57   \n",
       "\n",
       "     Wind Speed Country        Date  \n",
       "0          3.09      MU  1610309376  \n",
       "1          0.45      ZA  1610309376  \n",
       "2          5.16      AU  1610309377  \n",
       "3          9.56      RU  1610309377  \n",
       "4          4.52      PG  1610309377  \n",
       "..          ...     ...         ...  \n",
       "529        1.99      CN  1610309445  \n",
       "530        2.12      RU  1610309445  \n",
       "531        1.31      BR  1610309284  \n",
       "532        1.71      RU  1610309446  \n",
       "533        0.71      BR  1610309446  \n",
       "\n",
       "[534 rows x 9 columns]"
      ]
     },
     "execution_count": 8,
     "metadata": {},
     "output_type": "execute_result"
    }
   ],
   "source": [
    "#Save df as csv\n",
    "cities_df.to_csv(output_data_file, index=False)\n",
    "\n",
    "#Display df\n",
    "cities_df"
   ]
  },
  {
   "cell_type": "code",
   "execution_count": 9,
   "metadata": {},
   "outputs": [
    {
     "data": {
      "text/html": [
       "<div>\n",
       "<style scoped>\n",
       "    .dataframe tbody tr th:only-of-type {\n",
       "        vertical-align: middle;\n",
       "    }\n",
       "\n",
       "    .dataframe tbody tr th {\n",
       "        vertical-align: top;\n",
       "    }\n",
       "\n",
       "    .dataframe thead th {\n",
       "        text-align: right;\n",
       "    }\n",
       "</style>\n",
       "<table border=\"1\" class=\"dataframe\">\n",
       "  <thead>\n",
       "    <tr style=\"text-align: right;\">\n",
       "      <th></th>\n",
       "      <th>Lat</th>\n",
       "      <th>Lng</th>\n",
       "      <th>Max Temp</th>\n",
       "      <th>Humidity</th>\n",
       "      <th>Cloudiness</th>\n",
       "      <th>Wind Speed</th>\n",
       "      <th>Date</th>\n",
       "    </tr>\n",
       "  </thead>\n",
       "  <tbody>\n",
       "    <tr>\n",
       "      <th>count</th>\n",
       "      <td>534.000000</td>\n",
       "      <td>534.000000</td>\n",
       "      <td>534.000000</td>\n",
       "      <td>534.000000</td>\n",
       "      <td>534.000000</td>\n",
       "      <td>534.000000</td>\n",
       "      <td>5.340000e+02</td>\n",
       "    </tr>\n",
       "    <tr>\n",
       "      <th>mean</th>\n",
       "      <td>21.797163</td>\n",
       "      <td>15.593542</td>\n",
       "      <td>47.406517</td>\n",
       "      <td>73.468165</td>\n",
       "      <td>53.576779</td>\n",
       "      <td>3.505094</td>\n",
       "      <td>1.610309e+09</td>\n",
       "    </tr>\n",
       "    <tr>\n",
       "      <th>std</th>\n",
       "      <td>33.758724</td>\n",
       "      <td>92.724078</td>\n",
       "      <td>33.230287</td>\n",
       "      <td>19.148426</td>\n",
       "      <td>40.144167</td>\n",
       "      <td>2.585209</td>\n",
       "      <td>8.353729e+01</td>\n",
       "    </tr>\n",
       "    <tr>\n",
       "      <th>min</th>\n",
       "      <td>-54.800000</td>\n",
       "      <td>-175.200000</td>\n",
       "      <td>-42.196000</td>\n",
       "      <td>14.000000</td>\n",
       "      <td>0.000000</td>\n",
       "      <td>0.150000</td>\n",
       "      <td>1.610309e+09</td>\n",
       "    </tr>\n",
       "    <tr>\n",
       "      <th>25%</th>\n",
       "      <td>-7.687450</td>\n",
       "      <td>-64.726375</td>\n",
       "      <td>26.465000</td>\n",
       "      <td>63.000000</td>\n",
       "      <td>5.000000</td>\n",
       "      <td>1.540000</td>\n",
       "      <td>1.610309e+09</td>\n",
       "    </tr>\n",
       "    <tr>\n",
       "      <th>50%</th>\n",
       "      <td>27.580100</td>\n",
       "      <td>21.132000</td>\n",
       "      <td>57.479000</td>\n",
       "      <td>79.000000</td>\n",
       "      <td>65.500000</td>\n",
       "      <td>2.970000</td>\n",
       "      <td>1.610309e+09</td>\n",
       "    </tr>\n",
       "    <tr>\n",
       "      <th>75%</th>\n",
       "      <td>50.420925</td>\n",
       "      <td>100.212350</td>\n",
       "      <td>77.000000</td>\n",
       "      <td>87.000000</td>\n",
       "      <td>92.750000</td>\n",
       "      <td>4.795000</td>\n",
       "      <td>1.610309e+09</td>\n",
       "    </tr>\n",
       "    <tr>\n",
       "      <th>max</th>\n",
       "      <td>78.218600</td>\n",
       "      <td>179.316700</td>\n",
       "      <td>93.488000</td>\n",
       "      <td>100.000000</td>\n",
       "      <td>100.000000</td>\n",
       "      <td>15.950000</td>\n",
       "      <td>1.610309e+09</td>\n",
       "    </tr>\n",
       "  </tbody>\n",
       "</table>\n",
       "</div>"
      ],
      "text/plain": [
       "              Lat         Lng    Max Temp    Humidity  Cloudiness  Wind Speed  \\\n",
       "count  534.000000  534.000000  534.000000  534.000000  534.000000  534.000000   \n",
       "mean    21.797163   15.593542   47.406517   73.468165   53.576779    3.505094   \n",
       "std     33.758724   92.724078   33.230287   19.148426   40.144167    2.585209   \n",
       "min    -54.800000 -175.200000  -42.196000   14.000000    0.000000    0.150000   \n",
       "25%     -7.687450  -64.726375   26.465000   63.000000    5.000000    1.540000   \n",
       "50%     27.580100   21.132000   57.479000   79.000000   65.500000    2.970000   \n",
       "75%     50.420925  100.212350   77.000000   87.000000   92.750000    4.795000   \n",
       "max     78.218600  179.316700   93.488000  100.000000  100.000000   15.950000   \n",
       "\n",
       "               Date  \n",
       "count  5.340000e+02  \n",
       "mean   1.610309e+09  \n",
       "std    8.353729e+01  \n",
       "min    1.610309e+09  \n",
       "25%    1.610309e+09  \n",
       "50%    1.610309e+09  \n",
       "75%    1.610309e+09  \n",
       "max    1.610309e+09  "
      ]
     },
     "execution_count": 9,
     "metadata": {},
     "output_type": "execute_result"
    }
   ],
   "source": [
    "cities_df.describe()"
   ]
  },
  {
   "cell_type": "code",
   "execution_count": 10,
   "metadata": {},
   "outputs": [
    {
     "data": {
      "text/html": [
       "<div>\n",
       "<style scoped>\n",
       "    .dataframe tbody tr th:only-of-type {\n",
       "        vertical-align: middle;\n",
       "    }\n",
       "\n",
       "    .dataframe tbody tr th {\n",
       "        vertical-align: top;\n",
       "    }\n",
       "\n",
       "    .dataframe thead th {\n",
       "        text-align: right;\n",
       "    }\n",
       "</style>\n",
       "<table border=\"1\" class=\"dataframe\">\n",
       "  <thead>\n",
       "    <tr style=\"text-align: right;\">\n",
       "      <th></th>\n",
       "      <th>City</th>\n",
       "      <th>Lat</th>\n",
       "      <th>Lng</th>\n",
       "      <th>Max Temp</th>\n",
       "      <th>Humidity</th>\n",
       "      <th>Cloudiness</th>\n",
       "      <th>Wind Speed</th>\n",
       "      <th>Country</th>\n",
       "      <th>Date</th>\n",
       "    </tr>\n",
       "  </thead>\n",
       "  <tbody>\n",
       "  </tbody>\n",
       "</table>\n",
       "</div>"
      ],
      "text/plain": [
       "Empty DataFrame\n",
       "Columns: [City, Lat, Lng, Max Temp, Humidity, Cloudiness, Wind Speed, Country, Date]\n",
       "Index: []"
      ]
     },
     "execution_count": 10,
     "metadata": {},
     "output_type": "execute_result"
    }
   ],
   "source": [
    "#Inspect data to see if any cities have humidity > 100%. \n",
    "humidity_error = cities_df.loc[cities_df['Humidity'] > 100]\n",
    "humidity_error"
   ]
  },
  {
   "cell_type": "code",
   "execution_count": 11,
   "metadata": {},
   "outputs": [
    {
     "data": {
      "text/plain": [
       "Int64Index([], dtype='int64')"
      ]
     },
     "execution_count": 11,
     "metadata": {},
     "output_type": "execute_result"
    }
   ],
   "source": [
    "#Get the indices of cities that have humidity over 100%\n",
    "humidity_error.index"
   ]
  },
  {
   "cell_type": "markdown",
   "metadata": {},
   "source": [
    "Latitude vs. Temperature Plot"
   ]
  },
  {
   "cell_type": "code",
   "execution_count": 12,
   "metadata": {},
   "outputs": [
    {
     "data": {
      "image/png": "[encoded data removed]",
      "text/plain": [
       "<Figure size 576x576 with 1 Axes>"
      ]
     },
     "metadata": {
      "needs_background": "light"
     },
     "output_type": "display_data"
    },
    {
     "data": {
      "text/plain": [
       "<Figure size 432x288 with 0 Axes>"
      ]
     },
     "metadata": {},
     "output_type": "display_data"
    }
   ],
   "source": [
    "plot = cities_df.plot(kind=\"scatter\", x=\"Lat\", xlabel=\"Latitude\", y=\"Max Temp\", grid=True, figsize=(8,8), \n",
    "               title=\"City Latitude vs. Max Temperature (04/01/20)\")\n",
    "plot.set_xlabel('Latitude')\n",
    "plot.set_ylabel('Max Temperature (F)')\n",
    "plot.xaxis.get_label().set_visible(True)\n",
    "plt.show()\n",
    "plt.savefig('lat_temp.png')"
   ]
  },
  {
   "cell_type": "markdown",
   "metadata": {},
   "source": [
    "Latitude vs. Humidity Plot"
   ]
  },
  {
   "cell_type": "code",
   "execution_count": 13,
   "metadata": {},
   "outputs": [
    {
     "data": {
      "image/png": "[encoded data removed]",
      "text/plain": [
       "<Figure size 576x576 with 1 Axes>"
      ]
     },
     "metadata": {
      "needs_background": "light"
     },
     "output_type": "display_data"
    },
    {
     "data": {
      "text/plain": [
       "<Figure size 432x288 with 0 Axes>"
      ]
     },
     "metadata": {},
     "output_type": "display_data"
    }
   ],
   "source": [
    "plot = cities_df.plot(kind=\"scatter\", x=\"Lat\", xlabel=\"Latitude\", y=\"Humidity\", grid=True, figsize=(8,8), \n",
    "               title=\"City Latitude vs. Humidity (04/01/20)\")\n",
    "plot.set_xlabel('Latitude')\n",
    "plot.set_ylabel('Humidity (%)')\n",
    "plot.xaxis.get_label().set_visible(True)\n",
    "plt.show()\n",
    "plt.savefig('lat_hum.png')"
   ]
  },
  {
   "cell_type": "markdown",
   "metadata": {},
   "source": [
    "Latitude vs. Cloudiness Plot"
   ]
  },
  {
   "cell_type": "code",
   "execution_count": 14,
   "metadata": {},
   "outputs": [
    {
     "data": {
      "image/png": "[encoded data removed]",
      "text/plain": [
       "<Figure size 576x576 with 1 Axes>"
      ]
     },
     "metadata": {
      "needs_background": "light"
     },
     "output_type": "display_data"
    },
    {
     "data": {
      "text/plain": [
       "<Figure size 432x288 with 0 Axes>"
      ]
     },
     "metadata": {},
     "output_type": "display_data"
    }
   ],
   "source": [
    "plot = cities_df.plot(kind=\"scatter\", x=\"Lat\", xlabel=\"Latitude\", y=\"Cloudiness\", grid=True, figsize=(8,8), \n",
    "               title=\"City Latitude vs. Cloudiness (04/01/20)\")\n",
    "plot.set_xlabel('Latitude')\n",
    "plot.set_ylabel('Cloudiness (%)')\n",
    "plot.xaxis.get_label().set_visible(True)\n",
    "plt.show()\n",
    "plt.savefig('lat_cloud.png')"
   ]
  },
  {
   "cell_type": "markdown",
   "metadata": {},
   "source": [
    "Latitude vs. Wind Speed Plot"
   ]
  },
  {
   "cell_type": "code",
   "execution_count": 15,
   "metadata": {},
   "outputs": [
    {
     "data": {
      "image/png": "[encoded data removed]",
      "text/plain": [
       "<Figure size 576x576 with 1 Axes>"
      ]
     },
     "metadata": {
      "needs_background": "light"
     },
     "output_type": "display_data"
    },
    {
     "data": {
      "text/plain": [
       "<Figure size 432x288 with 0 Axes>"
      ]
     },
     "metadata": {},
     "output_type": "display_data"
    }
   ],
   "source": [
    "plot = cities_df.plot(kind=\"scatter\", x=\"Lat\", xlabel=\"Latitude\", y=\"Wind Speed\", grid=True, figsize=(8,8), \n",
    "               title=\"City Latitude vs. Wind Speed (04/01/20)\")\n",
    "plot.set_xlabel('Latitude')\n",
    "plot.set_ylabel('Wind Speed (mph)')\n",
    "plot.xaxis.get_label().set_visible(True)\n",
    "plt.show()\n",
    "plt.savefig('lat_wind.png')"
   ]
  },
  {
   "cell_type": "markdown",
   "metadata": {},
   "source": [
    "Linear Regression"
   ]
  },
  {
   "cell_type": "code",
   "execution_count": 16,
   "metadata": {},
   "outputs": [],
   "source": [
    "#Create dataframes for northern and southern hemisphere\n",
    "nh = cities_df.loc[cities_df['Lat'] > 0]\n",
    "sh = cities_df.loc[cities_df['Lat'] < 0]"
   ]
  },
  {
   "cell_type": "markdown",
   "metadata": {},
   "source": [
    "Northern Hemisphere - Max Temp vs. Latitude Linear Regression"
   ]
  },
  {
   "cell_type": "code",
   "execution_count": 17,
   "metadata": {},
   "outputs": [
    {
     "name": "stdout",
     "output_type": "stream",
     "text": [
      "y = -1.35x + 90.09\n",
      " The r-value is: -0.8347137691269154\n",
      "The r-squared is: 0.6967470763700615\n"
     ]
    },
    {
     "data": {
      "image/png": "[encoded data removed]",
      "text/plain": [
       "<Figure size 432x288 with 1 Axes>"
      ]
     },
     "metadata": {
      "needs_background": "light"
     },
     "output_type": "display_data"
    }
   ],
   "source": [
    "x_values = nh['Lat']\n",
    "y_values = nh['Max Temp']\n",
    "tvl_slope, tvl_int, tvl_r, tvl_p, tvl_std_err = linregress(x_values,y_values)\n",
    "tvl_fit = tvl_slope * x_values + tvl_int\n",
    "line_eq = \"y = \" + str(round(tvl_slope,2)) + \"x + \" + str(round(tvl_int,2))\n",
    "plt.scatter(x_values,y_values)\n",
    "plt.plot(x_values,tvl_fit, \"r-\")\n",
    "plt.xlabel(\"Latitude\")\n",
    "plt.ylabel(\"Max Temp\")\n",
    "print(line_eq)\n",
    "print(f\" The r-value is: {tvl_r}\")\n",
    "print(f\"The r-squared is: {tvl_r**2}\")\n",
    "plt.savefig('lat_temp_nh.png')"
   ]
  },
  {
   "cell_type": "markdown",
   "metadata": {},
   "source": [
    "This plot shows a moderate to strong negative relationship between latitude and max temp. This suggests that as latitude increases, max temp decreases in the northern hemisphere."
   ]
  },
  {
   "cell_type": "markdown",
   "metadata": {},
   "source": [
    "Southern Hemisphere - Max Temp vs. Latitude Linear Regression"
   ]
  },
  {
   "cell_type": "code",
   "execution_count": 18,
   "metadata": {},
   "outputs": [
    {
     "name": "stdout",
     "output_type": "stream",
     "text": [
      "y = 0.47x + 84.85\n",
      " The r-value is: 0.6431182208994309\n",
      "The r-squared is: 0.41360104605284925\n"
     ]
    },
    {
     "data": {
      "image/png": "[encoded data removed]",
      "text/plain": [
       "<Figure size 432x288 with 1 Axes>"
      ]
     },
     "metadata": {
      "needs_background": "light"
     },
     "output_type": "display_data"
    }
   ],
   "source": [
    "x_values = sh['Lat']\n",
    "y_values = sh['Max Temp']\n",
    "tvls_slope, tvls_int, tvls_r, tvls_p, tvls_std_err = linregress(x_values,y_values)\n",
    "tvls_fit = tvls_slope * x_values + tvls_int\n",
    "line_eq = \"y = \" + str(round(tvls_slope,2)) + \"x + \" + str(round(tvls_int,2))\n",
    "plt.scatter(x_values,y_values)\n",
    "plt.plot(x_values,tvls_fit, \"r-\")\n",
    "plt.xlabel(\"Latitude\")\n",
    "plt.ylabel(\"Max Temp\")\n",
    "print(line_eq)\n",
    "print(f\" The r-value is: {tvls_r}\")\n",
    "print(f\"The r-squared is: {tvls_r**2}\")\n",
    "plt.savefig('lat_temp_sh.png')"
   ]
  },
  {
   "cell_type": "markdown",
   "metadata": {},
   "source": [
    "This plot shows a moderate positive relationship between latitude and max temp. This suggests that as latitude increases, max temp increases in the southern hemisphere."
   ]
  },
  {
   "cell_type": "markdown",
   "metadata": {},
   "source": [
    "Northern Hemisphere - Humidity (%) vs. Latitude Linear Regression"
   ]
  },
  {
   "cell_type": "code",
   "execution_count": 19,
   "metadata": {},
   "outputs": [
    {
     "name": "stdout",
     "output_type": "stream",
     "text": [
      "y = 0.35x + 59.3\n",
      " The r-value is: 0.36251311069613423\n",
      "The r-squared is: 0.13141575542658768\n"
     ]
    },
    {
     "data": {
      "image/png": "[encoded data removed]",
      "text/plain": [
       "<Figure size 432x288 with 1 Axes>"
      ]
     },
     "metadata": {
      "needs_background": "light"
     },
     "output_type": "display_data"
    }
   ],
   "source": [
    "x_values = nh['Lat']\n",
    "y_values = nh['Humidity']\n",
    "hvl_slope, hvl_int, hvl_r, hvl_p, hvl_std_err = linregress(x_values,y_values)\n",
    "hvl_fit = hvl_slope * x_values + hvl_int\n",
    "line_eq = \"y = \" + str(round(hvl_slope,2)) + \"x + \" + str(round(hvl_int,2))\n",
    "plt.scatter(x_values,y_values)\n",
    "plt.plot(x_values,hvl_fit, \"r-\")\n",
    "plt.xlabel(\"Latitude\")\n",
    "plt.ylabel(\"Humidity\")\n",
    "print(line_eq)\n",
    "print(f\" The r-value is: {hvl_r}\")\n",
    "print(f\"The r-squared is: {hvl_r**2}\")\n",
    "plt.savefig('lat_hum_nh.png')"
   ]
  },
  {
   "cell_type": "markdown",
   "metadata": {},
   "source": [
    "This plot shows a weak positive relationship between latitude and humidity. This suggests that as latitude increases, humidity increases in the northern hemisphere. Although, with an r-squared value = .13, this means that the correlation is not statistically significant."
   ]
  },
  {
   "cell_type": "markdown",
   "metadata": {},
   "source": [
    "Southern Hemisphere - Humidity (%) vs. Latitude Linear Regression"
   ]
  },
  {
   "cell_type": "code",
   "execution_count": 25,
   "metadata": {},
   "outputs": [
    {
     "name": "stdout",
     "output_type": "stream",
     "text": [
      "y = 0.2x + 77.6\n",
      " The r-value is: 0.15223894276150787\n",
      "The r-squared is: 0.02317669569314167\n"
     ]
    },
    {
     "data": {
      "image/png": "[encoded data removed]",
      "text/plain": [
       "<Figure size 432x288 with 1 Axes>"
      ]
     },
     "metadata": {
      "needs_background": "light"
     },
     "output_type": "display_data"
    }
   ],
   "source": [
    "x_values = sh['Lat']\n",
    "y_values = sh['Humidity']\n",
    "hvls_slope, hvls_int, hvls_r, hvls_p, hvls_std_err = linregress(x_values,y_values)\n",
    "hvls_fit = hvls_slope * x_values + hvls_int\n",
    "line_eq = \"y = \" + str(round(hvls_slope,2)) + \"x + \" + str(round(hvls_int,2))\n",
    "plt.scatter(x_values,y_values)\n",
    "plt.plot(x_values,hvls_fit, \"r-\")\n",
    "plt.xlabel(\"Latitude\")\n",
    "plt.ylabel(\"Humidity\")\n",
    "print(line_eq)\n",
    "print(f\" The r-value is: {hvls_r}\")\n",
    "print(f\"The r-squared is: {hvls_r**2}\")\n",
    "plt.savefig('lat_hum_sh.png')"
   ]
  },
  {
   "cell_type": "markdown",
   "metadata": {},
   "source": [
    "This plot shows a very weak positive relationship between latitude and humidity. This suggests that as latitude increases, humidity increases in the southern hemisphere. Although, with an r-squared value = .02, this means that the correlation is far from statistically significant."
   ]
  },
  {
   "cell_type": "markdown",
   "metadata": {},
   "source": [
    "Northern Hemisphere - Cloudiness (%) vs. Latitude Linear Regression"
   ]
  },
  {
   "cell_type": "code",
   "execution_count": 21,
   "metadata": {},
   "outputs": [
    {
     "name": "stdout",
     "output_type": "stream",
     "text": [
      "y = 0.42x + 35.17\n",
      " The r-value is: 0.20828895213147175\n",
      "The r-squared is: 0.04338428758002653\n"
     ]
    },
    {
     "data": {
      "image/png": "[encoded data removed]",
      "text/plain": [
       "<Figure size 432x288 with 1 Axes>"
      ]
     },
     "metadata": {
      "needs_background": "light"
     },
     "output_type": "display_data"
    }
   ],
   "source": [
    "x_values = nh['Lat']\n",
    "y_values = nh['Cloudiness']\n",
    "cvl_slope, cvl_int, cvl_r, cvl_p, cvl_std_err = linregress(x_values,y_values)\n",
    "cvl_fit = cvl_slope * x_values + cvl_int\n",
    "line_eq = \"y = \" + str(round(cvl_slope,2)) + \"x + \" + str(round(cvl_int,2))\n",
    "plt.scatter(x_values,y_values)\n",
    "plt.plot(x_values,cvl_fit, \"r-\")\n",
    "plt.xlabel(\"Latitude\")\n",
    "plt.ylabel(\"Cloudiness\")\n",
    "print(line_eq)\n",
    "print(f\" The r-value is: {cvl_r}\")\n",
    "print(f\"The r-squared is: {cvl_r**2}\")\n",
    "plt.savefig('lat_cloud_nh.png')"
   ]
  },
  {
   "cell_type": "markdown",
   "metadata": {},
   "source": [
    "This plot shows a very weak positive relationship between latitude and cloudiness. This suggests that as latitude increases, cloud cover increases in the northern hemisphere. However, this relationship is not statistically significant."
   ]
  },
  {
   "cell_type": "markdown",
   "metadata": {},
   "source": [
    "Southern Hemisphere - Cloudiness (%) vs. Latitude Linear Regression"
   ]
  },
  {
   "cell_type": "code",
   "execution_count": 26,
   "metadata": {},
   "outputs": [
    {
     "name": "stdout",
     "output_type": "stream",
     "text": [
      "y = 0.47x + 67.58\n",
      " The r-value is: 0.16308698020200812\n",
      "The r-squared is: 0.02659736311141019\n"
     ]
    },
    {
     "data": {
      "image/png": "[encoded data removed]",
      "text/plain": [
       "<Figure size 432x288 with 1 Axes>"
      ]
     },
     "metadata": {
      "needs_background": "light"
     },
     "output_type": "display_data"
    }
   ],
   "source": [
    "x_values = sh['Lat']\n",
    "y_values = sh['Cloudiness']\n",
    "cvls_slope, cvls_int, cvls_r, cvls_p, cvls_std_err = linregress(x_values,y_values)\n",
    "cvls_fit = cvls_slope * x_values + cvls_int\n",
    "line_eq = \"y = \" + str(round(cvls_slope,2)) + \"x + \" + str(round(cvls_int,2))\n",
    "plt.scatter(x_values,y_values)\n",
    "plt.plot(x_values,cvls_fit, \"r-\")\n",
    "plt.xlabel(\"Latitude\")\n",
    "plt.ylabel(\"Cloudiness\")\n",
    "print(line_eq)\n",
    "print(f\" The r-value is: {cvls_r}\")\n",
    "print(f\"The r-squared is: {cvls_r**2}\")\n",
    "plt.savefig('lat_cloud_sh.png')"
   ]
  },
  {
   "cell_type": "markdown",
   "metadata": {},
   "source": [
    "This plot shows a very weak positive relationship between latitude and cloudiness. This suggests that as latitude increases, cloud cover increases in the southern hemisphere. However, this relationship is not statistically significant."
   ]
  },
  {
   "cell_type": "markdown",
   "metadata": {},
   "source": [
    "Northern Hemisphere - Wind Speed (mph) vs. Latitude Linear Regression"
   ]
  },
  {
   "cell_type": "code",
   "execution_count": 23,
   "metadata": {},
   "outputs": [
    {
     "name": "stdout",
     "output_type": "stream",
     "text": [
      "y = 0.01x + 2.84\n",
      " The r-value is: 0.0982254406661325\n",
      "The r-squared is: 0.009648237194055914\n"
     ]
    },
    {
     "data": {
      "image/png": "[encoded data removed]",
      "text/plain": [
       "<Figure size 432x288 with 1 Axes>"
      ]
     },
     "metadata": {
      "needs_background": "light"
     },
     "output_type": "display_data"
    }
   ],
   "source": [
    "x_values = nh['Lat']\n",
    "y_values = nh['Wind Speed']\n",
    "wvl_slope, wvl_int, wvl_r, wvl_p, wvl_std_err = linregress(x_values,y_values)\n",
    "wvl_fit = wvl_slope * x_values + wvl_int\n",
    "line_eq = \"y = \" + str(round(wvl_slope,2)) + \"x + \" + str(round(wvl_int,2))\n",
    "plt.scatter(x_values,y_values)\n",
    "plt.plot(x_values,wvl_fit, \"r-\")\n",
    "plt.xlabel(\"Latitude\")\n",
    "plt.ylabel(\"Wind Speed\")\n",
    "print(line_eq)\n",
    "print(f\" The r-value is: {wvl_r}\")\n",
    "print(f\"The r-squared is: {wvl_r**2}\")\n",
    "plt.savefig('lat_wind_nh.png')"
   ]
  },
  {
   "cell_type": "markdown",
   "metadata": {},
   "source": [
    "This plot shows a very very weak positive relationship between latitude and wind speed. This suggests that as latitude increases, wind speed increases in the northern hemisphere. However, this relationship is not statistically significant."
   ]
  },
  {
   "cell_type": "markdown",
   "metadata": {},
   "source": [
    "Southern Hemisphere - Wind Speed (mph) vs. Latitude Linear Regression"
   ]
  },
  {
   "cell_type": "code",
   "execution_count": 24,
   "metadata": {},
   "outputs": [
    {
     "name": "stdout",
     "output_type": "stream",
     "text": [
      "y = -0.06x + 2.61\n",
      " The r-value is: -0.2891340876094787\n",
      "The r-squared is: 0.0835985206177657\n"
     ]
    },
    {
     "data": {
      "image/png": "[encoded data removed]",
      "text/plain": [
       "<Figure size 432x288 with 1 Axes>"
      ]
     },
     "metadata": {
      "needs_background": "light"
     },
     "output_type": "display_data"
    }
   ],
   "source": [
    "x_values = sh['Lat']\n",
    "y_values = sh['Wind Speed']\n",
    "wvls_slope, wvls_int, wvls_r, wvls_p, wvls_std_err = linregress(x_values,y_values)\n",
    "wvls_fit = wvls_slope * x_values + wvls_int\n",
    "line_eq = \"y = \" + str(round(wvls_slope,2)) + \"x + \" + str(round(wvls_int,2))\n",
    "plt.scatter(x_values,y_values)\n",
    "plt.plot(x_values,wvls_fit, \"r-\")\n",
    "plt.xlabel(\"Latitude\")\n",
    "plt.ylabel(\"Wind Speed\")\n",
    "print(line_eq)\n",
    "print(f\" The r-value is: {wvls_r}\")\n",
    "print(f\"The r-squared is: {wvls_r**2}\")\n",
    "plt.savefig('lat_wind_sh.png')"
   ]
  },
  {
   "cell_type": "markdown",
   "metadata": {},
   "source": [
    "This plot shows a very weak negative relationship between latitude and wind speed. This suggests that as latitude increases, wind speed decreases in the southern hemisphere. However, this relationship is not statistically significant."
   ]
  },
  {
   "cell_type": "code",
   "execution_count": null,
   "metadata": {},
   "outputs": [],
   "source": []
  }
 ],
 "metadata": {
  "kernelspec": {
   "display_name": "Python 3",
   "language": "python",
   "name": "python3"
  },
  "language_info": {
   "codemirror_mode": {
    "name": "ipython",
    "version": 3
   },
   "file_extension": ".py",
   "mimetype": "text/x-python",
   "name": "python",
   "nbconvert_exporter": "python",
   "pygments_lexer": "ipython3",
   "version": "3.8.3"
  }
 },
 "nbformat": 4,
 "nbformat_minor": 4
}
