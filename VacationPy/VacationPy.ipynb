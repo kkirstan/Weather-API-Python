{
 "cells": [
  {
   "cell_type": "markdown",
   "metadata": {},
   "source": [
    "# VacationPy\n",
    "----\n",
    "\n",
    "#### Note\n",
    "* Keep an eye on your API usage. Use https://developers.google.com/maps/reporting/gmp-reporting as reference for how to monitor your usage and billing.\n",
    "\n",
    "* Instructions have been included for each segment. You do not have to follow them exactly, but they are included to help you think through the steps."
   ]
  },
  {
   "cell_type": "code",
   "execution_count": 14,
   "metadata": {},
   "outputs": [],
   "source": [
    "# Dependencies and Setup\n",
    "import matplotlib.pyplot as plt\n",
    "import pandas as pd\n",
    "import numpy as np\n",
    "import requests\n",
    "import gmaps\n",
    "import os\n",
    "import gmaps.datasets\n",
    "\n",
    "# Import API key\n",
    "from api_keys2 import g_key"
   ]
  },
  {
   "cell_type": "markdown",
   "metadata": {},
   "source": [
    "### Store Part I results into DataFrame\n",
    "* Load the csv exported in Part I to a DataFrame"
   ]
  },
  {
   "cell_type": "code",
   "execution_count": 21,
   "metadata": {},
   "outputs": [
    {
     "data": {
      "text/html": [
       "<div>\n",
       "<style scoped>\n",
       "    .dataframe tbody tr th:only-of-type {\n",
       "        vertical-align: middle;\n",
       "    }\n",
       "\n",
       "    .dataframe tbody tr th {\n",
       "        vertical-align: top;\n",
       "    }\n",
       "\n",
       "    .dataframe thead th {\n",
       "        text-align: right;\n",
       "    }\n",
       "</style>\n",
       "<table border=\"1\" class=\"dataframe\">\n",
       "  <thead>\n",
       "    <tr style=\"text-align: right;\">\n",
       "      <th></th>\n",
       "      <th>City</th>\n",
       "      <th>Lat</th>\n",
       "      <th>Lng</th>\n",
       "      <th>Max Temp</th>\n",
       "      <th>Humidity</th>\n",
       "      <th>Cloudiness</th>\n",
       "      <th>Wind Speed</th>\n",
       "      <th>Country</th>\n",
       "      <th>Date</th>\n",
       "    </tr>\n",
       "  </thead>\n",
       "  <tbody>\n",
       "    <tr>\n",
       "      <th>0</th>\n",
       "      <td>Mareeba</td>\n",
       "      <td>-17.0000</td>\n",
       "      <td>145.4333</td>\n",
       "      <td>87.800</td>\n",
       "      <td>66</td>\n",
       "      <td>75</td>\n",
       "      <td>3.09</td>\n",
       "      <td>AU</td>\n",
       "      <td>1610243809</td>\n",
       "    </tr>\n",
       "    <tr>\n",
       "      <th>1</th>\n",
       "      <td>Albany</td>\n",
       "      <td>42.6001</td>\n",
       "      <td>-73.9662</td>\n",
       "      <td>26.996</td>\n",
       "      <td>59</td>\n",
       "      <td>100</td>\n",
       "      <td>3.44</td>\n",
       "      <td>US</td>\n",
       "      <td>1610243707</td>\n",
       "    </tr>\n",
       "    <tr>\n",
       "      <th>2</th>\n",
       "      <td>Atuona</td>\n",
       "      <td>-9.8000</td>\n",
       "      <td>-139.0333</td>\n",
       "      <td>78.260</td>\n",
       "      <td>77</td>\n",
       "      <td>69</td>\n",
       "      <td>7.02</td>\n",
       "      <td>PF</td>\n",
       "      <td>1610243809</td>\n",
       "    </tr>\n",
       "    <tr>\n",
       "      <th>3</th>\n",
       "      <td>Hermanus</td>\n",
       "      <td>-34.4187</td>\n",
       "      <td>19.2345</td>\n",
       "      <td>62.996</td>\n",
       "      <td>93</td>\n",
       "      <td>100</td>\n",
       "      <td>5.55</td>\n",
       "      <td>ZA</td>\n",
       "      <td>1610243280</td>\n",
       "    </tr>\n",
       "    <tr>\n",
       "      <th>4</th>\n",
       "      <td>Saskylakh</td>\n",
       "      <td>71.9167</td>\n",
       "      <td>114.0833</td>\n",
       "      <td>-26.176</td>\n",
       "      <td>84</td>\n",
       "      <td>100</td>\n",
       "      <td>4.11</td>\n",
       "      <td>RU</td>\n",
       "      <td>1610243809</td>\n",
       "    </tr>\n",
       "    <tr>\n",
       "      <th>...</th>\n",
       "      <td>...</td>\n",
       "      <td>...</td>\n",
       "      <td>...</td>\n",
       "      <td>...</td>\n",
       "      <td>...</td>\n",
       "      <td>...</td>\n",
       "      <td>...</td>\n",
       "      <td>...</td>\n",
       "      <td>...</td>\n",
       "    </tr>\n",
       "    <tr>\n",
       "      <th>557</th>\n",
       "      <td>Marakkanam</td>\n",
       "      <td>12.2000</td>\n",
       "      <td>79.9500</td>\n",
       "      <td>76.838</td>\n",
       "      <td>87</td>\n",
       "      <td>44</td>\n",
       "      <td>4.52</td>\n",
       "      <td>IN</td>\n",
       "      <td>1610243881</td>\n",
       "    </tr>\n",
       "    <tr>\n",
       "      <th>558</th>\n",
       "      <td>Umeå</td>\n",
       "      <td>63.8284</td>\n",
       "      <td>20.2597</td>\n",
       "      <td>30.200</td>\n",
       "      <td>69</td>\n",
       "      <td>90</td>\n",
       "      <td>6.17</td>\n",
       "      <td>SE</td>\n",
       "      <td>1610243881</td>\n",
       "    </tr>\n",
       "    <tr>\n",
       "      <th>559</th>\n",
       "      <td>Luau</td>\n",
       "      <td>-10.7073</td>\n",
       "      <td>22.2247</td>\n",
       "      <td>62.312</td>\n",
       "      <td>99</td>\n",
       "      <td>82</td>\n",
       "      <td>1.45</td>\n",
       "      <td>AO</td>\n",
       "      <td>1610243881</td>\n",
       "    </tr>\n",
       "    <tr>\n",
       "      <th>560</th>\n",
       "      <td>Agadez</td>\n",
       "      <td>19.7500</td>\n",
       "      <td>10.2500</td>\n",
       "      <td>65.354</td>\n",
       "      <td>26</td>\n",
       "      <td>0</td>\n",
       "      <td>2.11</td>\n",
       "      <td>NE</td>\n",
       "      <td>1610243881</td>\n",
       "    </tr>\n",
       "    <tr>\n",
       "      <th>561</th>\n",
       "      <td>Springfield</td>\n",
       "      <td>37.2153</td>\n",
       "      <td>-93.2982</td>\n",
       "      <td>30.002</td>\n",
       "      <td>74</td>\n",
       "      <td>90</td>\n",
       "      <td>1.98</td>\n",
       "      <td>US</td>\n",
       "      <td>1610243881</td>\n",
       "    </tr>\n",
       "  </tbody>\n",
       "</table>\n",
       "<p>562 rows × 9 columns</p>\n",
       "</div>"
      ],
      "text/plain": [
       "            City      Lat       Lng  Max Temp  Humidity  Cloudiness  \\\n",
       "0        Mareeba -17.0000  145.4333    87.800        66          75   \n",
       "1         Albany  42.6001  -73.9662    26.996        59         100   \n",
       "2         Atuona  -9.8000 -139.0333    78.260        77          69   \n",
       "3       Hermanus -34.4187   19.2345    62.996        93         100   \n",
       "4      Saskylakh  71.9167  114.0833   -26.176        84         100   \n",
       "..           ...      ...       ...       ...       ...         ...   \n",
       "557   Marakkanam  12.2000   79.9500    76.838        87          44   \n",
       "558         Umeå  63.8284   20.2597    30.200        69          90   \n",
       "559         Luau -10.7073   22.2247    62.312        99          82   \n",
       "560       Agadez  19.7500   10.2500    65.354        26           0   \n",
       "561  Springfield  37.2153  -93.2982    30.002        74          90   \n",
       "\n",
       "     Wind Speed Country        Date  \n",
       "0          3.09      AU  1610243809  \n",
       "1          3.44      US  1610243707  \n",
       "2          7.02      PF  1610243809  \n",
       "3          5.55      ZA  1610243280  \n",
       "4          4.11      RU  1610243809  \n",
       "..          ...     ...         ...  \n",
       "557        4.52      IN  1610243881  \n",
       "558        6.17      SE  1610243881  \n",
       "559        1.45      AO  1610243881  \n",
       "560        2.11      NE  1610243881  \n",
       "561        1.98      US  1610243881  \n",
       "\n",
       "[562 rows x 9 columns]"
      ]
     },
     "execution_count": 21,
     "metadata": {},
     "output_type": "execute_result"
    }
   ],
   "source": [
    "output_data = \"cities.csv\"\n",
    "df = pd.read_csv(output_data)\n",
    "df"
   ]
  },
  {
   "cell_type": "markdown",
   "metadata": {},
   "source": [
    "### Humidity Heatmap\n",
    "* Configure gmaps.\n",
    "* Use the Lat and Lng as locations and Humidity as the weight.\n",
    "* Add Heatmap layer to map."
   ]
  },
  {
   "cell_type": "code",
   "execution_count": 25,
   "metadata": {},
   "outputs": [
    {
     "data": {
      "application/vnd.jupyter.widget-view+json": {
       "model_id": "9a50c0de3d8342d6870e55001c31dd0e",
       "version_major": 2,
       "version_minor": 0
      },
      "text/plain": [
       "Figure(layout=FigureLayout(height='420px'))"
      ]
     },
     "metadata": {},
     "output_type": "display_data"
    }
   ],
   "source": [
    "gmaps.configure(api_key=g_key)\n",
    "df = df.dropna()\n",
    "humidity = df['Humidity']\n",
    "\n",
    "locations = df[['Lat', 'Lng']]\n",
    "\n",
    "fig = gmaps.figure()\n",
    "heat_layer = gmaps.heatmap_layer(locations, weights=humidity,\n",
    "                                dissipating=False, max_intensity=max(df['Humidity']),\n",
    "                                point_radius = 2)\n",
    "fig.add_layer(heat_layer)\n",
    "fig"
   ]
  },
  {
   "cell_type": "code",
   "execution_count": 13,
   "metadata": {},
   "outputs": [
    {
     "data": {
      "text/plain": [
       "'0.9.0'"
      ]
     },
     "execution_count": 13,
     "metadata": {},
     "output_type": "execute_result"
    }
   ],
   "source": [
    "gmaps.__version__"
   ]
  },
  {
   "cell_type": "markdown",
   "metadata": {},
   "source": [
    "### Create new DataFrame fitting weather criteria\n",
    "* Narrow down the cities to fit weather conditions.\n",
    "* Drop any rows will null values."
   ]
  },
  {
   "cell_type": "code",
   "execution_count": null,
   "metadata": {},
   "outputs": [],
   "source": []
  },
  {
   "cell_type": "markdown",
   "metadata": {},
   "source": [
    "### Hotel Map\n",
    "* Store into variable named `hotel_df`.\n",
    "* Add a \"Hotel Name\" column to the DataFrame.\n",
    "* Set parameters to search for hotels with 5000 meters.\n",
    "* Hit the Google Places API for each city's coordinates.\n",
    "* Store the first Hotel result into the DataFrame.\n",
    "* Plot markers on top of the heatmap."
   ]
  },
  {
   "cell_type": "code",
   "execution_count": null,
   "metadata": {},
   "outputs": [],
   "source": []
  },
  {
   "cell_type": "code",
   "execution_count": null,
   "metadata": {},
   "outputs": [],
   "source": []
  },
  {
   "cell_type": "code",
   "execution_count": null,
   "metadata": {},
   "outputs": [],
   "source": [
    "# NOTE: Do not change any of the code in this cell\n",
    "\n",
    "# Using the template add the hotel marks to the heatmap\n",
    "info_box_template = \"\"\"\n",
    "<dl>\n",
    "<dt>Name</dt><dd>{Hotel Name}</dd>\n",
    "<dt>City</dt><dd>{City}</dd>\n",
    "<dt>Country</dt><dd>{Country}</dd>\n",
    "</dl>\n",
    "\"\"\"\n",
    "# Store the DataFrame Row\n",
    "# NOTE: be sure to update with your DataFrame name\n",
    "hotel_info = [info_box_template.format(**row) for index, row in hotel_df.iterrows()]\n",
    "locations = hotel_df[[\"Lat\", \"Lng\"]]"
   ]
  },
  {
   "cell_type": "code",
   "execution_count": null,
   "metadata": {},
   "outputs": [],
   "source": [
    "# Add marker layer ontop of heat map\n",
    "\n",
    "\n",
    "# Display figure\n"
   ]
  },
  {
   "cell_type": "code",
   "execution_count": null,
   "metadata": {},
   "outputs": [],
   "source": []
  }
 ],
 "metadata": {
  "kernelspec": {
   "display_name": "Python [conda env:root] *",
   "language": "python",
   "name": "conda-root-py"
  },
  "language_info": {
   "codemirror_mode": {
    "name": "ipython",
    "version": 3
   },
   "file_extension": ".py",
   "mimetype": "text/x-python",
   "name": "python",
   "nbconvert_exporter": "python",
   "pygments_lexer": "ipython3",
   "version": "3.8.3"
  },
  "latex_envs": {
   "LaTeX_envs_menu_present": true,
   "autoclose": false,
   "autocomplete": true,
   "bibliofile": "biblio.bib",
   "cite_by": "apalike",
   "current_citInitial": 1,
   "eqLabelWithNumbers": true,
   "eqNumInitial": 1,
   "hotkeys": {
    "equation": "Ctrl-E",
    "itemize": "Ctrl-I"
   },
   "labels_anchors": false,
   "latex_user_defs": false,
   "report_style_numbering": false,
   "user_envs_cfg": false
  }
 },
 "nbformat": 4,
 "nbformat_minor": 4
}
